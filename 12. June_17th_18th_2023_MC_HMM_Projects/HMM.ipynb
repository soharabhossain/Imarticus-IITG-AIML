{
  "nbformat": 4,
  "nbformat_minor": 0,
  "metadata": {
    "colab": {
      "provenance": []
    },
    "kernelspec": {
      "name": "python3",
      "display_name": "Python 3"
    },
    "language_info": {
      "name": "python"
    }
  },
  "cells": [
    {
      "cell_type": "markdown",
      "source": [
        "# Implement HMM with HMM Learn Library"
      ],
      "metadata": {
        "id": "KL629gVnABvp"
      }
    },
    {
      "cell_type": "markdown",
      "source": [
        "Install the library"
      ],
      "metadata": {
        "id": "avhYDq4wAJYp"
      }
    },
    {
      "cell_type": "code",
      "execution_count": 1,
      "metadata": {
        "colab": {
          "base_uri": "https://localhost:8080/"
        },
        "id": "Ru-junnU_57O",
        "outputId": "25f79710-fffc-423f-db5c-437fb6532732"
      },
      "outputs": [
        {
          "output_type": "stream",
          "name": "stdout",
          "text": [
            "Looking in indexes: https://pypi.org/simple, https://us-python.pkg.dev/colab-wheels/public/simple/\n",
            "Collecting hmmlearn\n",
            "  Downloading hmmlearn-0.3.0-cp310-cp310-manylinux_2_17_x86_64.manylinux2014_x86_64.whl (160 kB)\n",
            "\u001b[2K     \u001b[90m━━━━━━━━━━━━━━━━━━━━━━━━━━━━━━━━━━━━━━━\u001b[0m \u001b[32m160.4/160.4 kB\u001b[0m \u001b[31m4.1 MB/s\u001b[0m eta \u001b[36m0:00:00\u001b[0m\n",
            "\u001b[?25hRequirement already satisfied: numpy>=1.10 in /usr/local/lib/python3.10/dist-packages (from hmmlearn) (1.22.4)\n",
            "Requirement already satisfied: scikit-learn!=0.22.0,>=0.16 in /usr/local/lib/python3.10/dist-packages (from hmmlearn) (1.2.2)\n",
            "Requirement already satisfied: scipy>=0.19 in /usr/local/lib/python3.10/dist-packages (from hmmlearn) (1.10.1)\n",
            "Requirement already satisfied: joblib>=1.1.1 in /usr/local/lib/python3.10/dist-packages (from scikit-learn!=0.22.0,>=0.16->hmmlearn) (1.2.0)\n",
            "Requirement already satisfied: threadpoolctl>=2.0.0 in /usr/local/lib/python3.10/dist-packages (from scikit-learn!=0.22.0,>=0.16->hmmlearn) (3.1.0)\n",
            "Installing collected packages: hmmlearn\n",
            "Successfully installed hmmlearn-0.3.0\n"
          ]
        }
      ],
      "source": [
        "pip install hmmlearn"
      ]
    },
    {
      "cell_type": "markdown",
      "source": [
        "## Hidden States: Topic about Cat or Dog\n",
        "## Observed States: What we say contains some words: mouse, fetch, food, tail"
      ],
      "metadata": {
        "id": "XsWcwHkkATWs"
      }
    },
    {
      "cell_type": "markdown",
      "source": [
        "## Import Libraries"
      ],
      "metadata": {
        "id": "ha88Vke5Av21"
      }
    },
    {
      "cell_type": "code",
      "source": [
        "import numpy as np\n",
        "from hmmlearn import hmm\n",
        "\n",
        "import warnings\n",
        "warnings.filterwarnings('ignore')"
      ],
      "metadata": {
        "id": "BSo0S-VtAy5p"
      },
      "execution_count": 2,
      "outputs": []
    },
    {
      "cell_type": "markdown",
      "source": [
        "## Setup HMM Parameters"
      ],
      "metadata": {
        "id": "4C2uSfGEA9Zm"
      }
    },
    {
      "cell_type": "markdown",
      "source": [
        "## Hidden States"
      ],
      "metadata": {
        "id": "Lm5K41adBB6U"
      }
    },
    {
      "cell_type": "code",
      "source": [
        "\n",
        "states = ['cat', 'dog']\n",
        "\n",
        "id2topic = dict(zip(range(len(states)), states))\n",
        "id2topic"
      ],
      "metadata": {
        "colab": {
          "base_uri": "https://localhost:8080/"
        },
        "id": "JeqXPi0iBEsF",
        "outputId": "c4ca74f3-f7f3-4d93-b97e-c6ec509ffc7a"
      },
      "execution_count": 3,
      "outputs": [
        {
          "output_type": "execute_result",
          "data": {
            "text/plain": [
              "{0: 'cat', 1: 'dog'}"
            ]
          },
          "metadata": {},
          "execution_count": 3
        }
      ]
    },
    {
      "cell_type": "markdown",
      "source": [
        "## Initial probabilities of the Hidden States"
      ],
      "metadata": {
        "id": "vSjyLKk2BiE0"
      }
    },
    {
      "cell_type": "code",
      "source": [
        "start_probs = np.array([0.6, 0.4])"
      ],
      "metadata": {
        "id": "PMCfERmlBpxg"
      },
      "execution_count": 4,
      "outputs": []
    },
    {
      "cell_type": "markdown",
      "source": [
        "## Observed States"
      ],
      "metadata": {
        "id": "yZsRyoIxB3nL"
      }
    },
    {
      "cell_type": "code",
      "source": [
        "vocabulary = ['tail', 'fetch', 'mouse', 'food']"
      ],
      "metadata": {
        "id": "HRKibAvOB5Yd"
      },
      "execution_count": 5,
      "outputs": []
    },
    {
      "cell_type": "markdown",
      "source": [
        "## Emission Probabilities"
      ],
      "metadata": {
        "id": "LG9gRL79CG9a"
      }
    },
    {
      "cell_type": "code",
      "source": [
        "emission_probs = np.array([[0.25, 0.1, 0.4, 0.25],\n",
        "                           [0.2, 0.5, 0.1, 0.2]])\n",
        "emission_probs"
      ],
      "metadata": {
        "colab": {
          "base_uri": "https://localhost:8080/"
        },
        "id": "bvTBt1JPCMa7",
        "outputId": "bba6e5d6-a97f-4c29-cdcb-19c7b3c5d86c"
      },
      "execution_count": 6,
      "outputs": [
        {
          "output_type": "execute_result",
          "data": {
            "text/plain": [
              "array([[0.25, 0.1 , 0.4 , 0.25],\n",
              "       [0.2 , 0.5 , 0.1 , 0.2 ]])"
            ]
          },
          "metadata": {},
          "execution_count": 6
        }
      ]
    },
    {
      "cell_type": "markdown",
      "source": [
        "# Transition Probability"
      ],
      "metadata": {
        "id": "HPdA7CbeCccu"
      }
    },
    {
      "cell_type": "code",
      "source": [
        "trans_mat = np.array([[0.8, 0.2], [0.2, 0.8]])\n",
        "trans_mat"
      ],
      "metadata": {
        "colab": {
          "base_uri": "https://localhost:8080/"
        },
        "id": "4Zn9VuNIC1B_",
        "outputId": "e29785d9-bb42-412a-8ce2-87718f1e50ec"
      },
      "execution_count": 7,
      "outputs": [
        {
          "output_type": "execute_result",
          "data": {
            "text/plain": [
              "array([[0.8, 0.2],\n",
              "       [0.2, 0.8]])"
            ]
          },
          "metadata": {},
          "execution_count": 7
        }
      ]
    },
    {
      "cell_type": "markdown",
      "source": [
        "# Create Training Data\n",
        "\n",
        "Every sentence we speak has only 5 words"
      ],
      "metadata": {
        "id": "JEVdrNskDEf3"
      }
    },
    {
      "cell_type": "code",
      "source": [
        "observations = [[\"tail\", \"mouse\", \"mouse\", \"food\", \"mouse\"],\n",
        "        [\"food\", \"mouse\", \"mouse\", \"food\", \"mouse\"],\n",
        "        [\"tail\", \"mouse\", \"mouse\", \"tail\", \"mouse\"],\n",
        "        [\"food\", \"mouse\", \"food\", \"food\", \"tail\"],\n",
        "        [\"tail\", \"fetch\", \"mouse\", \"food\", \"tail\"],\n",
        "        [\"tail\", \"fetch\", \"fetch\", \"food\", \"fetch\"],\n",
        "        [\"fetch\", \"fetch\", \"fetch\", \"food\", \"tail\"],\n",
        "        [\"food\", \"mouse\", \"food\", \"food\", \"tail\"],\n",
        "        [\"tail\", \"mouse\", \"mouse\", \"tail\", \"mouse\"],\n",
        "        [\"fetch\", \"fetch\", \"fetch\", \"fetch\", \"fetch\"]]"
      ],
      "metadata": {
        "id": "3t8EmOc2DH1Y"
      },
      "execution_count": 8,
      "outputs": []
    },
    {
      "cell_type": "markdown",
      "source": [
        "## Define a function to convert sentences/words into numbers"
      ],
      "metadata": {
        "id": "UFQC144jD3KZ"
      }
    },
    {
      "cell_type": "code",
      "source": [
        "vocab2id = dict(zip(vocabulary, range(len(vocabulary))))\n",
        "vocab2id"
      ],
      "metadata": {
        "colab": {
          "base_uri": "https://localhost:8080/"
        },
        "id": "pLXm8K6pD9KA",
        "outputId": "74f8d8c2-52fd-42b1-b290-78f5230d7219"
      },
      "execution_count": 9,
      "outputs": [
        {
          "output_type": "execute_result",
          "data": {
            "text/plain": [
              "{'tail': 0, 'fetch': 1, 'mouse': 2, 'food': 3}"
            ]
          },
          "metadata": {},
          "execution_count": 9
        }
      ]
    },
    {
      "cell_type": "markdown",
      "source": [
        "## Custom function to convert the observable states into a sequence of counts of the corresponding states (BoW)"
      ],
      "metadata": {
        "id": "xtHC9y0PERb9"
      }
    },
    {
      "cell_type": "code",
      "source": [
        "#print(vocab2id)\n",
        "\n",
        "def sentence2counts(sentence, vocab2id):\n",
        "    ans = []\n",
        "    for word, idx in vocab2id.items():\n",
        "        count = sentence.count(word)\n",
        "        ans.append(count)\n",
        "    return ans"
      ],
      "metadata": {
        "id": "0xxezSJ6EuV8"
      },
      "execution_count": 14,
      "outputs": []
    },
    {
      "cell_type": "code",
      "source": [
        "X = []\n",
        "\n",
        "for sentence in observations:\n",
        "    row = sentence2counts(sentence, vocab2id)\n",
        "    X.append(row)\n",
        "X"
      ],
      "metadata": {
        "colab": {
          "base_uri": "https://localhost:8080/"
        },
        "id": "El0bA53wFBZL",
        "outputId": "e2dd4c11-6539-4b1b-901a-566765d3d3f1"
      },
      "execution_count": 15,
      "outputs": [
        {
          "output_type": "execute_result",
          "data": {
            "text/plain": [
              "[[1, 0, 3, 1],\n",
              " [0, 0, 3, 2],\n",
              " [2, 0, 3, 0],\n",
              " [1, 0, 1, 3],\n",
              " [2, 1, 1, 1],\n",
              " [1, 3, 0, 1],\n",
              " [1, 3, 0, 1],\n",
              " [1, 0, 1, 3],\n",
              " [2, 0, 3, 0],\n",
              " [0, 5, 0, 0]]"
            ]
          },
          "metadata": {},
          "execution_count": 15
        }
      ]
    },
    {
      "cell_type": "markdown",
      "source": [
        "## Convet to Array and Replicate Data"
      ],
      "metadata": {
        "id": "6Ocvf0PBGQsk"
      }
    },
    {
      "cell_type": "code",
      "source": [
        "data = np.array(X, dtype=int)\n",
        "\n",
        "lengths = [len(X)]*5\n",
        "\n",
        "sequences = np.tile(data, (5,1))\n",
        "sequences"
      ],
      "metadata": {
        "colab": {
          "base_uri": "https://localhost:8080/"
        },
        "id": "GYzp2d-mGVWP",
        "outputId": "2bb97aec-e553-457d-e1c6-382a0a98a5e6"
      },
      "execution_count": 16,
      "outputs": [
        {
          "output_type": "execute_result",
          "data": {
            "text/plain": [
              "array([[1, 0, 3, 1],\n",
              "       [0, 0, 3, 2],\n",
              "       [2, 0, 3, 0],\n",
              "       [1, 0, 1, 3],\n",
              "       [2, 1, 1, 1],\n",
              "       [1, 3, 0, 1],\n",
              "       [1, 3, 0, 1],\n",
              "       [1, 0, 1, 3],\n",
              "       [2, 0, 3, 0],\n",
              "       [0, 5, 0, 0],\n",
              "       [1, 0, 3, 1],\n",
              "       [0, 0, 3, 2],\n",
              "       [2, 0, 3, 0],\n",
              "       [1, 0, 1, 3],\n",
              "       [2, 1, 1, 1],\n",
              "       [1, 3, 0, 1],\n",
              "       [1, 3, 0, 1],\n",
              "       [1, 0, 1, 3],\n",
              "       [2, 0, 3, 0],\n",
              "       [0, 5, 0, 0],\n",
              "       [1, 0, 3, 1],\n",
              "       [0, 0, 3, 2],\n",
              "       [2, 0, 3, 0],\n",
              "       [1, 0, 1, 3],\n",
              "       [2, 1, 1, 1],\n",
              "       [1, 3, 0, 1],\n",
              "       [1, 3, 0, 1],\n",
              "       [1, 0, 1, 3],\n",
              "       [2, 0, 3, 0],\n",
              "       [0, 5, 0, 0],\n",
              "       [1, 0, 3, 1],\n",
              "       [0, 0, 3, 2],\n",
              "       [2, 0, 3, 0],\n",
              "       [1, 0, 1, 3],\n",
              "       [2, 1, 1, 1],\n",
              "       [1, 3, 0, 1],\n",
              "       [1, 3, 0, 1],\n",
              "       [1, 0, 1, 3],\n",
              "       [2, 0, 3, 0],\n",
              "       [0, 5, 0, 0],\n",
              "       [1, 0, 3, 1],\n",
              "       [0, 0, 3, 2],\n",
              "       [2, 0, 3, 0],\n",
              "       [1, 0, 1, 3],\n",
              "       [2, 1, 1, 1],\n",
              "       [1, 3, 0, 1],\n",
              "       [1, 3, 0, 1],\n",
              "       [1, 0, 1, 3],\n",
              "       [2, 0, 3, 0],\n",
              "       [0, 5, 0, 0]])"
            ]
          },
          "metadata": {},
          "execution_count": 16
        }
      ]
    },
    {
      "cell_type": "markdown",
      "source": [
        "Train a HMM MOdel"
      ],
      "metadata": {
        "id": "NYenuzRWG41j"
      }
    },
    {
      "cell_type": "code",
      "source": [
        "model = hmm.MultinomialHMM(n_components=len(states),\n",
        "                           n_trials=len(observations[0]),\n",
        "                                        n_iter=50, init_params='')\n",
        "\n",
        "\n",
        "model.n_features = len(vocabulary)\n",
        "model.startprob_ = start_probs\n",
        "model.transmat_ = trans_mat\n",
        "model.emissionprob_ = emission_probs"
      ],
      "metadata": {
        "colab": {
          "base_uri": "https://localhost:8080/"
        },
        "id": "5rivETByG6i0",
        "outputId": "1440f9ff-f831-46b3-de2d-2fa58d9d28cf"
      },
      "execution_count": 21,
      "outputs": [
        {
          "output_type": "stream",
          "name": "stderr",
          "text": [
            "WARNING:hmmlearn.hmm:MultinomialHMM has undergone major changes. The previous version was implementing a CategoricalHMM (a special case of MultinomialHMM). This new implementation follows the standard definition for a Multinomial distribution (e.g. as in https://en.wikipedia.org/wiki/Multinomial_distribution). See these issues for details:\n",
            "https://github.com/hmmlearn/hmmlearn/issues/335\n",
            "https://github.com/hmmlearn/hmmlearn/issues/340\n"
          ]
        }
      ]
    },
    {
      "cell_type": "code",
      "source": [],
      "metadata": {
        "id": "459VaiQvINuS"
      },
      "execution_count": null,
      "outputs": []
    },
    {
      "cell_type": "markdown",
      "source": [
        "# Train the Model"
      ],
      "metadata": {
        "id": "At17_bdUH0-c"
      }
    },
    {
      "cell_type": "code",
      "source": [
        "model.fit(sequences, lengths)"
      ],
      "metadata": {
        "colab": {
          "base_uri": "https://localhost:8080/",
          "height": 93
        },
        "id": "7Z7I3KolH0ZB",
        "outputId": "c92f4d03-5038-42ac-e235-8be9442821e4"
      },
      "execution_count": 22,
      "outputs": [
        {
          "output_type": "execute_result",
          "data": {
            "text/plain": [
              "MultinomialHMM(init_params='', n_components=2, n_iter=50, n_trials=5,\n",
              "               random_state=RandomState(MT19937) at 0x7FEED96D6A40)"
            ],
            "text/html": [
              "<style>#sk-container-id-1 {color: black;background-color: white;}#sk-container-id-1 pre{padding: 0;}#sk-container-id-1 div.sk-toggleable {background-color: white;}#sk-container-id-1 label.sk-toggleable__label {cursor: pointer;display: block;width: 100%;margin-bottom: 0;padding: 0.3em;box-sizing: border-box;text-align: center;}#sk-container-id-1 label.sk-toggleable__label-arrow:before {content: \"▸\";float: left;margin-right: 0.25em;color: #696969;}#sk-container-id-1 label.sk-toggleable__label-arrow:hover:before {color: black;}#sk-container-id-1 div.sk-estimator:hover label.sk-toggleable__label-arrow:before {color: black;}#sk-container-id-1 div.sk-toggleable__content {max-height: 0;max-width: 0;overflow: hidden;text-align: left;background-color: #f0f8ff;}#sk-container-id-1 div.sk-toggleable__content pre {margin: 0.2em;color: black;border-radius: 0.25em;background-color: #f0f8ff;}#sk-container-id-1 input.sk-toggleable__control:checked~div.sk-toggleable__content {max-height: 200px;max-width: 100%;overflow: auto;}#sk-container-id-1 input.sk-toggleable__control:checked~label.sk-toggleable__label-arrow:before {content: \"▾\";}#sk-container-id-1 div.sk-estimator input.sk-toggleable__control:checked~label.sk-toggleable__label {background-color: #d4ebff;}#sk-container-id-1 div.sk-label input.sk-toggleable__control:checked~label.sk-toggleable__label {background-color: #d4ebff;}#sk-container-id-1 input.sk-hidden--visually {border: 0;clip: rect(1px 1px 1px 1px);clip: rect(1px, 1px, 1px, 1px);height: 1px;margin: -1px;overflow: hidden;padding: 0;position: absolute;width: 1px;}#sk-container-id-1 div.sk-estimator {font-family: monospace;background-color: #f0f8ff;border: 1px dotted black;border-radius: 0.25em;box-sizing: border-box;margin-bottom: 0.5em;}#sk-container-id-1 div.sk-estimator:hover {background-color: #d4ebff;}#sk-container-id-1 div.sk-parallel-item::after {content: \"\";width: 100%;border-bottom: 1px solid gray;flex-grow: 1;}#sk-container-id-1 div.sk-label:hover label.sk-toggleable__label {background-color: #d4ebff;}#sk-container-id-1 div.sk-serial::before {content: \"\";position: absolute;border-left: 1px solid gray;box-sizing: border-box;top: 0;bottom: 0;left: 50%;z-index: 0;}#sk-container-id-1 div.sk-serial {display: flex;flex-direction: column;align-items: center;background-color: white;padding-right: 0.2em;padding-left: 0.2em;position: relative;}#sk-container-id-1 div.sk-item {position: relative;z-index: 1;}#sk-container-id-1 div.sk-parallel {display: flex;align-items: stretch;justify-content: center;background-color: white;position: relative;}#sk-container-id-1 div.sk-item::before, #sk-container-id-1 div.sk-parallel-item::before {content: \"\";position: absolute;border-left: 1px solid gray;box-sizing: border-box;top: 0;bottom: 0;left: 50%;z-index: -1;}#sk-container-id-1 div.sk-parallel-item {display: flex;flex-direction: column;z-index: 1;position: relative;background-color: white;}#sk-container-id-1 div.sk-parallel-item:first-child::after {align-self: flex-end;width: 50%;}#sk-container-id-1 div.sk-parallel-item:last-child::after {align-self: flex-start;width: 50%;}#sk-container-id-1 div.sk-parallel-item:only-child::after {width: 0;}#sk-container-id-1 div.sk-dashed-wrapped {border: 1px dashed gray;margin: 0 0.4em 0.5em 0.4em;box-sizing: border-box;padding-bottom: 0.4em;background-color: white;}#sk-container-id-1 div.sk-label label {font-family: monospace;font-weight: bold;display: inline-block;line-height: 1.2em;}#sk-container-id-1 div.sk-label-container {text-align: center;}#sk-container-id-1 div.sk-container {/* jupyter's `normalize.less` sets `[hidden] { display: none; }` but bootstrap.min.css set `[hidden] { display: none !important; }` so we also need the `!important` here to be able to override the default hidden behavior on the sphinx rendered scikit-learn.org. See: https://github.com/scikit-learn/scikit-learn/issues/21755 */display: inline-block !important;position: relative;}#sk-container-id-1 div.sk-text-repr-fallback {display: none;}</style><div id=\"sk-container-id-1\" class=\"sk-top-container\"><div class=\"sk-text-repr-fallback\"><pre>MultinomialHMM(init_params=&#x27;&#x27;, n_components=2, n_iter=50, n_trials=5,\n",
              "               random_state=RandomState(MT19937) at 0x7FEED96D6A40)</pre><b>In a Jupyter environment, please rerun this cell to show the HTML representation or trust the notebook. <br />On GitHub, the HTML representation is unable to render, please try loading this page with nbviewer.org.</b></div><div class=\"sk-container\" hidden><div class=\"sk-item\"><div class=\"sk-estimator sk-toggleable\"><input class=\"sk-toggleable__control sk-hidden--visually\" id=\"sk-estimator-id-1\" type=\"checkbox\" checked><label for=\"sk-estimator-id-1\" class=\"sk-toggleable__label sk-toggleable__label-arrow\">MultinomialHMM</label><div class=\"sk-toggleable__content\"><pre>MultinomialHMM(init_params=&#x27;&#x27;, n_components=2, n_iter=50, n_trials=5,\n",
              "               random_state=RandomState(MT19937) at 0x7FEED96D6A40)</pre></div></div></div></div></div>"
            ]
          },
          "metadata": {},
          "execution_count": 22
        }
      ]
    },
    {
      "cell_type": "markdown",
      "source": [
        "# Trained Model Parameters"
      ],
      "metadata": {
        "id": "2rpeCGH4ISbA"
      }
    },
    {
      "cell_type": "code",
      "source": [
        "model.emissionprob_"
      ],
      "metadata": {
        "colab": {
          "base_uri": "https://localhost:8080/"
        },
        "id": "ek_D5oDVIU7H",
        "outputId": "b4b852cd-36ef-4970-a389-2f1b8b094f94"
      },
      "execution_count": 23,
      "outputs": [
        {
          "output_type": "execute_result",
          "data": {
            "text/plain": [
              "array([[2.57129200e-01, 2.86190571e-02, 4.28541642e-01, 2.85710101e-01],\n",
              "       [1.33352852e-01, 7.33292496e-01, 2.67548571e-05, 1.33327897e-01]])"
            ]
          },
          "metadata": {},
          "execution_count": 23
        }
      ]
    },
    {
      "cell_type": "code",
      "source": [
        "model.transmat_"
      ],
      "metadata": {
        "colab": {
          "base_uri": "https://localhost:8080/"
        },
        "id": "lzncQ6v6IXru",
        "outputId": "4ac7eeb3-c928-41b8-d1bf-7d91387220f0"
      },
      "execution_count": 24,
      "outputs": [
        {
          "output_type": "execute_result",
          "data": {
            "text/plain": [
              "array([[0.71429762, 0.28570238],\n",
              "       [0.50007593, 0.49992407]])"
            ]
          },
          "metadata": {},
          "execution_count": 24
        }
      ]
    },
    {
      "cell_type": "markdown",
      "source": [
        "# Decode a Sequence"
      ],
      "metadata": {
        "id": "CKHwoLnvIdjO"
      }
    },
    {
      "cell_type": "code",
      "source": [
        "logprob, received = model.decode(sequences)\n",
        "print('\\n Topics discussed: ')\n",
        "print([id2topic[x] for x in received])"
      ],
      "metadata": {
        "colab": {
          "base_uri": "https://localhost:8080/"
        },
        "id": "AX9EEGICIgAT",
        "outputId": "3b0fb2ff-bba6-4fec-adc0-da3ae1b1d6bd"
      },
      "execution_count": 26,
      "outputs": [
        {
          "output_type": "stream",
          "name": "stdout",
          "text": [
            "\n",
            " Topics discussed: \n",
            "['cat', 'cat', 'cat', 'cat', 'cat', 'dog', 'dog', 'cat', 'cat', 'dog', 'cat', 'cat', 'cat', 'cat', 'cat', 'dog', 'dog', 'cat', 'cat', 'dog', 'cat', 'cat', 'cat', 'cat', 'cat', 'dog', 'dog', 'cat', 'cat', 'dog', 'cat', 'cat', 'cat', 'cat', 'cat', 'dog', 'dog', 'cat', 'cat', 'dog', 'cat', 'cat', 'cat', 'cat', 'cat', 'dog', 'dog', 'cat', 'cat', 'dog']\n"
          ]
        }
      ]
    }
  ]
}