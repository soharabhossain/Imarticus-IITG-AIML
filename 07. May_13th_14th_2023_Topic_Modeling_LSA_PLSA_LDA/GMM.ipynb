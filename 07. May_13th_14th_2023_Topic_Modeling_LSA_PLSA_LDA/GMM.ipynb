{
  "nbformat": 4,
  "nbformat_minor": 0,
  "metadata": {
    "colab": {
      "provenance": []
    },
    "kernelspec": {
      "name": "python3",
      "display_name": "Python 3"
    },
    "language_info": {
      "name": "python"
    }
  },
  "cells": [
    {
      "cell_type": "code",
      "execution_count": null,
      "metadata": {
        "id": "t8HjO6mmW7uI"
      },
      "outputs": [],
      "source": []
    },
    {
      "cell_type": "markdown",
      "source": [
        "# Estimating model parameters with Gaussian Mixture Model (GMM) and EM"
      ],
      "metadata": {
        "id": "3QAVnmq-W_yk"
      }
    },
    {
      "cell_type": "markdown",
      "source": [
        "We will generate data from 2 Gaussian distributions and subsequently estimate the parameters of the distribution.\n",
        "\n",
        "\n",
        "The Data generation source will actually denote 2 distributions.\n",
        " We will train a GMM model and make prediction to identify if it is able to identify the two generation sources.\n",
        " "
      ],
      "metadata": {
        "id": "0j0XWprRXP-K"
      }
    },
    {
      "cell_type": "code",
      "source": [
        "import numpy as np\n",
        "from sklearn.mixture import GaussianMixture\n",
        "from matplotlib import pyplot"
      ],
      "metadata": {
        "id": "Y3IFhA_bYXpY"
      },
      "execution_count": 2,
      "outputs": []
    },
    {
      "cell_type": "markdown",
      "source": [
        "## Generate Data"
      ],
      "metadata": {
        "id": "OQZGKeOZYTTD"
      }
    },
    {
      "cell_type": "code",
      "source": [
        "X1 = np.random.normal(loc=20, scale=5, size=3000)\n",
        "X2 = np.random.normal(loc=40, scale=5, size=7000)\n",
        "\n",
        "X = np.hstack((X1, X2))\n",
        "X.shape"
      ],
      "metadata": {
        "colab": {
          "base_uri": "https://localhost:8080/"
        },
        "id": "AKm8OQM-W_Gj",
        "outputId": "273e4bf2-e8bc-4b45-db82-026187875eac"
      },
      "execution_count": 14,
      "outputs": [
        {
          "output_type": "execute_result",
          "data": {
            "text/plain": [
              "(10000,)"
            ]
          },
          "metadata": {},
          "execution_count": 14
        }
      ]
    },
    {
      "cell_type": "code",
      "source": [
        "# REshape into a table with one column\n",
        "X = X.reshape(len(X), 1)\n",
        "X.shape"
      ],
      "metadata": {
        "colab": {
          "base_uri": "https://localhost:8080/"
        },
        "id": "RVtxaDKrZSrB",
        "outputId": "9b36ae94-a33c-47eb-917b-267e4e6f2169"
      },
      "execution_count": 5,
      "outputs": [
        {
          "output_type": "execute_result",
          "data": {
            "text/plain": [
              "(10000, 1)"
            ]
          },
          "metadata": {},
          "execution_count": 5
        }
      ]
    },
    {
      "cell_type": "markdown",
      "source": [
        "## Plot the Histogram"
      ],
      "metadata": {
        "id": "VLkwJkx2ZjQg"
      }
    },
    {
      "cell_type": "code",
      "source": [
        "pyplot.hist(X, bins=50)\n",
        "pyplot.show()"
      ],
      "metadata": {
        "colab": {
          "base_uri": "https://localhost:8080/",
          "height": 430
        },
        "id": "fe92jZFLZlGG",
        "outputId": "204cf917-08b1-4366-c118-bd5e679be17b"
      },
      "execution_count": 6,
      "outputs": [
        {
          "output_type": "display_data",
          "data": {
            "text/plain": [
              "<Figure size 640x480 with 1 Axes>"
            ],
            "image/png": "[encoded data removed]"
          },
          "metadata": {}
        }
      ]
    },
    {
      "cell_type": "markdown",
      "source": [
        "## Train a GMM Model"
      ],
      "metadata": {
        "id": "xeGvae01aQtb"
      }
    },
    {
      "cell_type": "code",
      "source": [
        "model = GaussianMixture(n_components=2, init_params='random')\n",
        "model.fit(X)"
      ],
      "metadata": {
        "colab": {
          "base_uri": "https://localhost:8080/",
          "height": 75
        },
        "id": "CABvB0ubavNj",
        "outputId": "60fd282d-b326-45cf-80c8-d94595837f14"
      },
      "execution_count": 18,
      "outputs": [
        {
          "output_type": "execute_result",
          "data": {
            "text/plain": [
              "GaussianMixture(init_params='random', n_components=2)"
            ],
            "text/html": [
              "<style>#sk-container-id-2 {color: black;background-color: white;}#sk-container-id-2 pre{padding: 0;}#sk-container-id-2 div.sk-toggleable {background-color: white;}#sk-container-id-2 label.sk-toggleable__label {cursor: pointer;display: block;width: 100%;margin-bottom: 0;padding: 0.3em;box-sizing: border-box;text-align: center;}#sk-container-id-2 label.sk-toggleable__label-arrow:before {content: \"▸\";float: left;margin-right: 0.25em;color: #696969;}#sk-container-id-2 label.sk-toggleable__label-arrow:hover:before {color: black;}#sk-container-id-2 div.sk-estimator:hover label.sk-toggleable__label-arrow:before {color: black;}#sk-container-id-2 div.sk-toggleable__content {max-height: 0;max-width: 0;overflow: hidden;text-align: left;background-color: #f0f8ff;}#sk-container-id-2 div.sk-toggleable__content pre {margin: 0.2em;color: black;border-radius: 0.25em;background-color: #f0f8ff;}#sk-container-id-2 input.sk-toggleable__control:checked~div.sk-toggleable__content {max-height: 200px;max-width: 100%;overflow: auto;}#sk-container-id-2 input.sk-toggleable__control:checked~label.sk-toggleable__label-arrow:before {content: \"▾\";}#sk-container-id-2 div.sk-estimator input.sk-toggleable__control:checked~label.sk-toggleable__label {background-color: #d4ebff;}#sk-container-id-2 div.sk-label input.sk-toggleable__control:checked~label.sk-toggleable__label {background-color: #d4ebff;}#sk-container-id-2 input.sk-hidden--visually {border: 0;clip: rect(1px 1px 1px 1px);clip: rect(1px, 1px, 1px, 1px);height: 1px;margin: -1px;overflow: hidden;padding: 0;position: absolute;width: 1px;}#sk-container-id-2 div.sk-estimator {font-family: monospace;background-color: #f0f8ff;border: 1px dotted black;border-radius: 0.25em;box-sizing: border-box;margin-bottom: 0.5em;}#sk-container-id-2 div.sk-estimator:hover {background-color: #d4ebff;}#sk-container-id-2 div.sk-parallel-item::after {content: \"\";width: 100%;border-bottom: 1px solid gray;flex-grow: 1;}#sk-container-id-2 div.sk-label:hover label.sk-toggleable__label {background-color: #d4ebff;}#sk-container-id-2 div.sk-serial::before {content: \"\";position: absolute;border-left: 1px solid gray;box-sizing: border-box;top: 0;bottom: 0;left: 50%;z-index: 0;}#sk-container-id-2 div.sk-serial {display: flex;flex-direction: column;align-items: center;background-color: white;padding-right: 0.2em;padding-left: 0.2em;position: relative;}#sk-container-id-2 div.sk-item {position: relative;z-index: 1;}#sk-container-id-2 div.sk-parallel {display: flex;align-items: stretch;justify-content: center;background-color: white;position: relative;}#sk-container-id-2 div.sk-item::before, #sk-container-id-2 div.sk-parallel-item::before {content: \"\";position: absolute;border-left: 1px solid gray;box-sizing: border-box;top: 0;bottom: 0;left: 50%;z-index: -1;}#sk-container-id-2 div.sk-parallel-item {display: flex;flex-direction: column;z-index: 1;position: relative;background-color: white;}#sk-container-id-2 div.sk-parallel-item:first-child::after {align-self: flex-end;width: 50%;}#sk-container-id-2 div.sk-parallel-item:last-child::after {align-self: flex-start;width: 50%;}#sk-container-id-2 div.sk-parallel-item:only-child::after {width: 0;}#sk-container-id-2 div.sk-dashed-wrapped {border: 1px dashed gray;margin: 0 0.4em 0.5em 0.4em;box-sizing: border-box;padding-bottom: 0.4em;background-color: white;}#sk-container-id-2 div.sk-label label {font-family: monospace;font-weight: bold;display: inline-block;line-height: 1.2em;}#sk-container-id-2 div.sk-label-container {text-align: center;}#sk-container-id-2 div.sk-container {/* jupyter's `normalize.less` sets `[hidden] { display: none; }` but bootstrap.min.css set `[hidden] { display: none !important; }` so we also need the `!important` here to be able to override the default hidden behavior on the sphinx rendered scikit-learn.org. See: https://github.com/scikit-learn/scikit-learn/issues/21755 */display: inline-block !important;position: relative;}#sk-container-id-2 div.sk-text-repr-fallback {display: none;}</style><div id=\"sk-container-id-2\" class=\"sk-top-container\"><div class=\"sk-text-repr-fallback\"><pre>GaussianMixture(init_params=&#x27;random&#x27;, n_components=2)</pre><b>In a Jupyter environment, please rerun this cell to show the HTML representation or trust the notebook. <br />On GitHub, the HTML representation is unable to render, please try loading this page with nbviewer.org.</b></div><div class=\"sk-container\" hidden><div class=\"sk-item\"><div class=\"sk-estimator sk-toggleable\"><input class=\"sk-toggleable__control sk-hidden--visually\" id=\"sk-estimator-id-2\" type=\"checkbox\" checked><label for=\"sk-estimator-id-2\" class=\"sk-toggleable__label sk-toggleable__label-arrow\">GaussianMixture</label><div class=\"sk-toggleable__content\"><pre>GaussianMixture(init_params=&#x27;random&#x27;, n_components=2)</pre></div></div></div></div></div>"
            ]
          },
          "metadata": {},
          "execution_count": 18
        }
      ]
    },
    {
      "cell_type": "markdown",
      "source": [
        "## Make Prediction"
      ],
      "metadata": {
        "id": "1nScFx5UbeRT"
      }
    },
    {
      "cell_type": "code",
      "source": [
        "yhat = model.predict(X)"
      ],
      "metadata": {
        "id": "L0RCSYUtbgVg"
      },
      "execution_count": 9,
      "outputs": []
    },
    {
      "cell_type": "code",
      "source": [
        "yhat.size"
      ],
      "metadata": {
        "colab": {
          "base_uri": "https://localhost:8080/"
        },
        "id": "4Sug0bt4b5zE",
        "outputId": "5712d10b-9546-4adb-8cb7-13683316d847"
      },
      "execution_count": 11,
      "outputs": [
        {
          "output_type": "execute_result",
          "data": {
            "text/plain": [
              "10000"
            ]
          },
          "metadata": {},
          "execution_count": 11
        }
      ]
    },
    {
      "cell_type": "code",
      "source": [
        "print(yhat[:100])"
      ],
      "metadata": {
        "colab": {
          "base_uri": "https://localhost:8080/"
        },
        "id": "ijKFcXOZb0Cw",
        "outputId": "da7c0c29-1115-4077-c53e-ec7f351cf16f"
      },
      "execution_count": 12,
      "outputs": [
        {
          "output_type": "stream",
          "name": "stdout",
          "text": [
            "[0 0 0 0 0 0 0 0 0 0 0 0 0 0 0 0 0 0 0 0 0 0 0 0 0 0 0 0 0 0 0 0 0 0 0 0 0\n",
            " 0 0 0 0 0 0 0 0 0 0 0 0 0 0 0 0 0 0 0 0 0 0 0 0 0 0 0 0 0 0 0 0 0 0 0 0 0\n",
            " 0 0 0 0 0 0 0 0 0 0 0 0 0 0 0 0 0 0 0 0 0 0 0 0 0 0]\n"
          ]
        }
      ]
    },
    {
      "cell_type": "code",
      "source": [
        "print(yhat[-100:])"
      ],
      "metadata": {
        "colab": {
          "base_uri": "https://localhost:8080/"
        },
        "id": "U9pyQbdPcFca",
        "outputId": "0973c7f2-f998-4e98-f34a-1430bca6b3a3"
      },
      "execution_count": 13,
      "outputs": [
        {
          "output_type": "stream",
          "name": "stdout",
          "text": [
            "[0 1 1 1 0 1 1 1 1 1 1 1 0 1 0 1 1 1 1 1 1 1 1 1 1 1 1 1 1 1 0 1 1 1 1 1 1\n",
            " 1 1 1 1 1 1 1 0 0 1 1 1 1 1 0 1 1 1 1 0 1 1 1 1 0 0 1 0 1 0 1 0 0 0 1 0 1\n",
            " 1 1 0 0 1 0 1 1 1 1 1 1 1 1 1 0 1 1 1 1 0 1 1 1 1 1]\n"
          ]
        }
      ]
    },
    {
      "cell_type": "markdown",
      "source": [
        "## Part-2: Train a GMM with different number of components"
      ],
      "metadata": {
        "id": "ypmfqJ6RdBzA"
      }
    },
    {
      "cell_type": "code",
      "source": [
        "from sklearn.datasets import make_blobs"
      ],
      "metadata": {
        "id": "1P-M_yXddG9A"
      },
      "execution_count": 15,
      "outputs": []
    },
    {
      "cell_type": "markdown",
      "source": [
        "## Generate synthetic data"
      ],
      "metadata": {
        "id": "VR4qdLh8dY2R"
      }
    },
    {
      "cell_type": "code",
      "source": [
        "X, y = make_blobs(n_samples=500, centers=5, random_state=42)"
      ],
      "metadata": {
        "id": "Hra72-FgdbhY"
      },
      "execution_count": 16,
      "outputs": []
    },
    {
      "cell_type": "code",
      "source": [
        "X.shape"
      ],
      "metadata": {
        "colab": {
          "base_uri": "https://localhost:8080/"
        },
        "id": "SSVgRnnMdrZK",
        "outputId": "f823ac0a-7fb7-40ad-8880-e52f2c404aea"
      },
      "execution_count": 17,
      "outputs": [
        {
          "output_type": "execute_result",
          "data": {
            "text/plain": [
              "(500, 2)"
            ]
          },
          "metadata": {},
          "execution_count": 17
        }
      ]
    },
    {
      "cell_type": "markdown",
      "source": [
        "## Train GMMs with different number of components"
      ],
      "metadata": {
        "id": "Z0Yj8jS5dvkV"
      }
    },
    {
      "cell_type": "code",
      "source": [
        "n_components = range(1, 11)\n",
        "models = [GaussianMixture(n_components=n, random_state=42).fit(X) for n in n_components]\n"
      ],
      "metadata": {
        "id": "9wTU5AKFeMIY"
      },
      "execution_count": 19,
      "outputs": []
    },
    {
      "cell_type": "code",
      "source": [
        "len(models)"
      ],
      "metadata": {
        "colab": {
          "base_uri": "https://localhost:8080/"
        },
        "id": "Wv7_obEze6_C",
        "outputId": "c7493b92-9323-403e-81fe-bdd4a63f916a"
      },
      "execution_count": 20,
      "outputs": [
        {
          "output_type": "execute_result",
          "data": {
            "text/plain": [
              "10"
            ]
          },
          "metadata": {},
          "execution_count": 20
        }
      ]
    },
    {
      "cell_type": "markdown",
      "source": [
        "## Evalute the performance of the model with AIC/BIC Scores\n",
        "\n",
        "\n",
        "The lower the AIC or BIC score, the better the model fit."
      ],
      "metadata": {
        "id": "K9ssbanufbpz"
      }
    },
    {
      "cell_type": "code",
      "source": [
        "# Calculate the AIC and BIC scores for each model\n",
        "\n",
        "aic_scores = [ model.aic(X) for model in models]\n",
        "bic_scores = [ model.bic(X) for model in models]\n",
        "\n"
      ],
      "metadata": {
        "id": "r7QNuMRVfjDT"
      },
      "execution_count": 21,
      "outputs": []
    },
    {
      "cell_type": "code",
      "source": [
        "aic_scores"
      ],
      "metadata": {
        "colab": {
          "base_uri": "https://localhost:8080/"
        },
        "id": "yuNfDpi6hGqG",
        "outputId": "ef497dd8-7def-4688-8822-f823c91ca2e2"
      },
      "execution_count": 24,
      "outputs": [
        {
          "output_type": "execute_result",
          "data": {
            "text/plain": [
              "[6248.871500049277,\n",
              " 5237.295749135486,\n",
              " 4665.706349508695,\n",
              " 4428.363419064131,\n",
              " 4388.74837706198,\n",
              " 4394.528501278019,\n",
              " 4401.416655506975,\n",
              " 4409.733729757886,\n",
              " 4415.020225637169,\n",
              " 4416.557430654112]"
            ]
          },
          "metadata": {},
          "execution_count": 24
        }
      ]
    },
    {
      "cell_type": "code",
      "source": [
        "import matplotlib.pyplot as plt\n"
      ],
      "metadata": {
        "id": "w2t6PLWJgOev"
      },
      "execution_count": 22,
      "outputs": []
    },
    {
      "cell_type": "code",
      "source": [
        "plt.plot(n_components, aic_scores, label=\"AIC\")\n",
        "plt.plot(n_components, bic_scores, label=\"BIC\")\n",
        "plt.legend()\n",
        "plt.xlabel('Number of components')\n",
        "plt.ylabel('Score')\n",
        "plt.show()"
      ],
      "metadata": {
        "colab": {
          "base_uri": "https://localhost:8080/",
          "height": 449
        },
        "id": "5Eg6PO93gaJP",
        "outputId": "91263be4-801b-4ce6-e9f7-d600cf4760b7"
      },
      "execution_count": 23,
      "outputs": [
        {
          "output_type": "display_data",
          "data": {
            "text/plain": [
              "<Figure size 640x480 with 1 Axes>"
            ],
            "image/png": "[encoded data removed]"
          },
          "metadata": {}
        }
      ]
    },
    {
      "cell_type": "markdown",
      "source": [
        "## Fit the best GMM model"
      ],
      "metadata": {
        "id": "eWjJOwwQhLwC"
      }
    },
    {
      "cell_type": "code",
      "source": [
        "best_model_idx = np.argmin(aic_scores)\n",
        "best_model_idx"
      ],
      "metadata": {
        "colab": {
          "base_uri": "https://localhost:8080/"
        },
        "id": "-oo3CKsIhPtC",
        "outputId": "1f571948-3f7c-4413-8a13-7bd59d3506f1"
      },
      "execution_count": 25,
      "outputs": [
        {
          "output_type": "execute_result",
          "data": {
            "text/plain": [
              "4"
            ]
          },
          "metadata": {},
          "execution_count": 25
        }
      ]
    },
    {
      "cell_type": "code",
      "source": [
        "best_model_idx = np.argmin(bic_scores)\n",
        "best_model_idx"
      ],
      "metadata": {
        "colab": {
          "base_uri": "https://localhost:8080/"
        },
        "id": "un4wea54hau5",
        "outputId": "56f06a97-d645-417a-fde2-0b64087d20b3"
      },
      "execution_count": 26,
      "outputs": [
        {
          "output_type": "execute_result",
          "data": {
            "text/plain": [
              "4"
            ]
          },
          "metadata": {},
          "execution_count": 26
        }
      ]
    },
    {
      "cell_type": "markdown",
      "source": [
        "## Select the best model"
      ],
      "metadata": {
        "id": "3bmoco_6hj1_"
      }
    },
    {
      "cell_type": "code",
      "source": [
        "best_model = models[best_model_idx]\n",
        "best_model"
      ],
      "metadata": {
        "colab": {
          "base_uri": "https://localhost:8080/",
          "height": 75
        },
        "id": "amIMqll9hl9N",
        "outputId": "b5e9ec24-a38f-48da-8d11-cb87c25ffec0"
      },
      "execution_count": 29,
      "outputs": [
        {
          "output_type": "execute_result",
          "data": {
            "text/plain": [
              "GaussianMixture(n_components=5, random_state=42)"
            ],
            "text/html": [
              "<style>#sk-container-id-3 {color: black;background-color: white;}#sk-container-id-3 pre{padding: 0;}#sk-container-id-3 div.sk-toggleable {background-color: white;}#sk-container-id-3 label.sk-toggleable__label {cursor: pointer;display: block;width: 100%;margin-bottom: 0;padding: 0.3em;box-sizing: border-box;text-align: center;}#sk-container-id-3 label.sk-toggleable__label-arrow:before {content: \"▸\";float: left;margin-right: 0.25em;color: #696969;}#sk-container-id-3 label.sk-toggleable__label-arrow:hover:before {color: black;}#sk-container-id-3 div.sk-estimator:hover label.sk-toggleable__label-arrow:before {color: black;}#sk-container-id-3 div.sk-toggleable__content {max-height: 0;max-width: 0;overflow: hidden;text-align: left;background-color: #f0f8ff;}#sk-container-id-3 div.sk-toggleable__content pre {margin: 0.2em;color: black;border-radius: 0.25em;background-color: #f0f8ff;}#sk-container-id-3 input.sk-toggleable__control:checked~div.sk-toggleable__content {max-height: 200px;max-width: 100%;overflow: auto;}#sk-container-id-3 input.sk-toggleable__control:checked~label.sk-toggleable__label-arrow:before {content: \"▾\";}#sk-container-id-3 div.sk-estimator input.sk-toggleable__control:checked~label.sk-toggleable__label {background-color: #d4ebff;}#sk-container-id-3 div.sk-label input.sk-toggleable__control:checked~label.sk-toggleable__label {background-color: #d4ebff;}#sk-container-id-3 input.sk-hidden--visually {border: 0;clip: rect(1px 1px 1px 1px);clip: rect(1px, 1px, 1px, 1px);height: 1px;margin: -1px;overflow: hidden;padding: 0;position: absolute;width: 1px;}#sk-container-id-3 div.sk-estimator {font-family: monospace;background-color: #f0f8ff;border: 1px dotted black;border-radius: 0.25em;box-sizing: border-box;margin-bottom: 0.5em;}#sk-container-id-3 div.sk-estimator:hover {background-color: #d4ebff;}#sk-container-id-3 div.sk-parallel-item::after {content: \"\";width: 100%;border-bottom: 1px solid gray;flex-grow: 1;}#sk-container-id-3 div.sk-label:hover label.sk-toggleable__label {background-color: #d4ebff;}#sk-container-id-3 div.sk-serial::before {content: \"\";position: absolute;border-left: 1px solid gray;box-sizing: border-box;top: 0;bottom: 0;left: 50%;z-index: 0;}#sk-container-id-3 div.sk-serial {display: flex;flex-direction: column;align-items: center;background-color: white;padding-right: 0.2em;padding-left: 0.2em;position: relative;}#sk-container-id-3 div.sk-item {position: relative;z-index: 1;}#sk-container-id-3 div.sk-parallel {display: flex;align-items: stretch;justify-content: center;background-color: white;position: relative;}#sk-container-id-3 div.sk-item::before, #sk-container-id-3 div.sk-parallel-item::before {content: \"\";position: absolute;border-left: 1px solid gray;box-sizing: border-box;top: 0;bottom: 0;left: 50%;z-index: -1;}#sk-container-id-3 div.sk-parallel-item {display: flex;flex-direction: column;z-index: 1;position: relative;background-color: white;}#sk-container-id-3 div.sk-parallel-item:first-child::after {align-self: flex-end;width: 50%;}#sk-container-id-3 div.sk-parallel-item:last-child::after {align-self: flex-start;width: 50%;}#sk-container-id-3 div.sk-parallel-item:only-child::after {width: 0;}#sk-container-id-3 div.sk-dashed-wrapped {border: 1px dashed gray;margin: 0 0.4em 0.5em 0.4em;box-sizing: border-box;padding-bottom: 0.4em;background-color: white;}#sk-container-id-3 div.sk-label label {font-family: monospace;font-weight: bold;display: inline-block;line-height: 1.2em;}#sk-container-id-3 div.sk-label-container {text-align: center;}#sk-container-id-3 div.sk-container {/* jupyter's `normalize.less` sets `[hidden] { display: none; }` but bootstrap.min.css set `[hidden] { display: none !important; }` so we also need the `!important` here to be able to override the default hidden behavior on the sphinx rendered scikit-learn.org. See: https://github.com/scikit-learn/scikit-learn/issues/21755 */display: inline-block !important;position: relative;}#sk-container-id-3 div.sk-text-repr-fallback {display: none;}</style><div id=\"sk-container-id-3\" class=\"sk-top-container\"><div class=\"sk-text-repr-fallback\"><pre>GaussianMixture(n_components=5, random_state=42)</pre><b>In a Jupyter environment, please rerun this cell to show the HTML representation or trust the notebook. <br />On GitHub, the HTML representation is unable to render, please try loading this page with nbviewer.org.</b></div><div class=\"sk-container\" hidden><div class=\"sk-item\"><div class=\"sk-estimator sk-toggleable\"><input class=\"sk-toggleable__control sk-hidden--visually\" id=\"sk-estimator-id-3\" type=\"checkbox\" checked><label for=\"sk-estimator-id-3\" class=\"sk-toggleable__label sk-toggleable__label-arrow\">GaussianMixture</label><div class=\"sk-toggleable__content\"><pre>GaussianMixture(n_components=5, random_state=42)</pre></div></div></div></div></div>"
            ]
          },
          "metadata": {},
          "execution_count": 29
        }
      ]
    },
    {
      "cell_type": "code",
      "source": [
        "print('Best model with %d components' % n_components[best_model_idx])"
      ],
      "metadata": {
        "colab": {
          "base_uri": "https://localhost:8080/"
        },
        "id": "bTwvXVJ7h2RO",
        "outputId": "ac4dd756-31ae-47a1-8178-c3197bfc8200"
      },
      "execution_count": 30,
      "outputs": [
        {
          "output_type": "stream",
          "name": "stdout",
          "text": [
            "Best model with 5 components\n"
          ]
        }
      ]
    },
    {
      "cell_type": "code",
      "source": [
        "print(best_model)"
      ],
      "metadata": {
        "colab": {
          "base_uri": "https://localhost:8080/"
        },
        "id": "pjBqTq5IiCV7",
        "outputId": "c9650165-0731-4a48-90b6-4d7ce729f7ee"
      },
      "execution_count": 31,
      "outputs": [
        {
          "output_type": "stream",
          "name": "stdout",
          "text": [
            "GaussianMixture(n_components=5, random_state=42)\n"
          ]
        }
      ]
    },
    {
      "cell_type": "markdown",
      "source": [
        "## Make Prediction"
      ],
      "metadata": {
        "id": "wi0r8gb6iH2s"
      }
    },
    {
      "cell_type": "code",
      "source": [
        "labels = best_model.predict(X)\n",
        "labels"
      ],
      "metadata": {
        "colab": {
          "base_uri": "https://localhost:8080/"
        },
        "id": "reW5dl6eiJjy",
        "outputId": "7340c280-b307-486e-eb8a-0bf868265aea"
      },
      "execution_count": 32,
      "outputs": [
        {
          "output_type": "execute_result",
          "data": {
            "text/plain": [
              "array([2, 4, 4, 4, 1, 2, 1, 4, 0, 0, 2, 2, 2, 4, 3, 3, 2, 3, 1, 2, 4, 3,\n",
              "       1, 3, 0, 3, 0, 3, 1, 2, 0, 0, 0, 4, 4, 0, 3, 2, 3, 0, 3, 4, 0, 3,\n",
              "       0, 1, 0, 3, 1, 1, 1, 0, 4, 2, 4, 4, 4, 3, 3, 1, 1, 0, 4, 1, 0, 4,\n",
              "       4, 1, 4, 4, 2, 2, 4, 2, 4, 2, 2, 0, 3, 1, 1, 0, 2, 3, 1, 3, 2, 2,\n",
              "       0, 2, 4, 1, 2, 1, 0, 2, 0, 1, 2, 4, 4, 4, 0, 2, 0, 1, 1, 1, 1, 1,\n",
              "       2, 0, 2, 4, 1, 4, 3, 3, 1, 4, 3, 4, 4, 4, 4, 1, 0, 2, 1, 4, 2, 3,\n",
              "       4, 3, 2, 3, 1, 2, 4, 4, 1, 1, 3, 1, 1, 3, 4, 1, 3, 4, 3, 2, 0, 0,\n",
              "       0, 3, 4, 4, 1, 0, 4, 0, 1, 3, 3, 1, 3, 2, 4, 3, 2, 2, 3, 4, 1, 4,\n",
              "       0, 0, 1, 4, 0, 0, 1, 2, 3, 0, 1, 0, 0, 4, 2, 2, 4, 0, 3, 3, 3, 2,\n",
              "       3, 2, 4, 0, 0, 3, 4, 0, 0, 3, 4, 4, 1, 4, 3, 2, 2, 4, 3, 3, 1, 0,\n",
              "       0, 3, 0, 4, 0, 2, 2, 0, 3, 2, 2, 0, 0, 4, 1, 2, 3, 1, 0, 1, 3, 3,\n",
              "       0, 1, 2, 4, 1, 3, 0, 2, 4, 1, 2, 0, 1, 0, 4, 2, 0, 4, 2, 2, 0, 4,\n",
              "       0, 3, 1, 2, 0, 2, 3, 0, 0, 2, 4, 0, 0, 0, 2, 4, 3, 0, 1, 2, 0, 3,\n",
              "       2, 1, 4, 4, 1, 3, 0, 0, 2, 3, 2, 3, 1, 3, 2, 1, 2, 2, 1, 0, 2, 3,\n",
              "       3, 1, 2, 1, 3, 1, 1, 2, 4, 4, 1, 2, 2, 4, 1, 2, 4, 4, 3, 1, 4, 4,\n",
              "       3, 3, 4, 2, 4, 2, 4, 0, 2, 4, 2, 1, 2, 2, 2, 1, 0, 3, 0, 2, 1, 1,\n",
              "       2, 1, 4, 2, 1, 4, 0, 1, 2, 4, 0, 1, 3, 4, 2, 1, 1, 2, 2, 0, 3, 2,\n",
              "       3, 3, 2, 4, 1, 4, 4, 3, 3, 4, 0, 3, 4, 3, 0, 3, 4, 1, 4, 1, 0, 0,\n",
              "       1, 3, 1, 3, 0, 0, 0, 1, 4, 1, 2, 1, 2, 3, 4, 1, 1, 3, 0, 1, 3, 2,\n",
              "       1, 2, 0, 2, 0, 2, 0, 3, 3, 1, 0, 1, 2, 0, 2, 1, 3, 3, 3, 3, 3, 1,\n",
              "       4, 0, 0, 4, 1, 4, 2, 0, 3, 3, 3, 0, 2, 1, 4, 4, 0, 1, 3, 1, 2, 3,\n",
              "       2, 1, 3, 2, 3, 1, 0, 2, 2, 1, 3, 0, 3, 4, 0, 0, 4, 4, 0, 3, 2, 1,\n",
              "       2, 0, 4, 2, 0, 3, 3, 3, 1, 0, 2, 0, 3, 1, 2, 3])"
            ]
          },
          "metadata": {},
          "execution_count": 32
        }
      ]
    },
    {
      "cell_type": "code",
      "source": [
        "# Scatter plot of data\n",
        "\n",
        "plt.scatter(X[:,0], X[:,1], c=labels)\n",
        "plt.show()"
      ],
      "metadata": {
        "colab": {
          "base_uri": "https://localhost:8080/",
          "height": 430
        },
        "id": "hUszJGciiXAZ",
        "outputId": "e2f51123-19d1-43c8-b334-5c1e357e6f3a"
      },
      "execution_count": 33,
      "outputs": [
        {
          "output_type": "display_data",
          "data": {
            "text/plain": [
              "<Figure size 640x480 with 1 Axes>"
            ],
            "image/png": "[encoded data removed]"
          },
          "metadata": {}
        }
      ]
    }
  ]
}