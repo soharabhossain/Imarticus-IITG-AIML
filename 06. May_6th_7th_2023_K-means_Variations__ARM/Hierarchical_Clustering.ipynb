{
  "nbformat": 4,
  "nbformat_minor": 0,
  "metadata": {
    "colab": {
      "provenance": []
    },
    "kernelspec": {
      "name": "python3",
      "display_name": "Python 3"
    },
    "language_info": {
      "name": "python"
    }
  },
  "cells": [
    {
      "cell_type": "markdown",
      "source": [
        "# Hierarchical Clustering with K-means"
      ],
      "metadata": {
        "id": "wSSp-OeykLOV"
      }
    },
    {
      "cell_type": "markdown",
      "source": [
        "## Steps:\n",
        "\n",
        "1. The algorithm starts by firs peforming K-means clustering on the entire dataset.\n",
        "\n",
        "2. Then, the clusters are merged in a hierarchical manner based on some similarity (e.g. distance or correlation etc.)\n",
        "\n",
        "3. We stop when the desired number of clusters are obtained."
      ],
      "metadata": {
        "id": "28A261UokP0N"
      }
    },
    {
      "cell_type": "code",
      "execution_count": 1,
      "metadata": {
        "id": "ew0R-nzVkHvu"
      },
      "outputs": [],
      "source": [
        "import numpy as np\n",
        "import matplotlib.pyplot as plt\n",
        "from sklearn.cluster import KMeans\n",
        "import warnings\n",
        "warnings.filterwarnings('ignore')"
      ]
    },
    {
      "cell_type": "code",
      "source": [
        "\n",
        "# Define a function to calculate the distance between two points\n",
        "def euclidean_distance(x1, x2):\n",
        "    return np.sqrt(np.sum((x1 - x2)**2))\n",
        "\n",
        "# Define the Hierarchical K-means algorithm - implemented with repetitive merge of clusters (agglomerative)\n",
        "def hierarchical_kmeans(X, k):\n",
        "    # Initialize the cluster centroids to be the data points themselves\n",
        "    centroids = X.copy()\n",
        "    n = centroids.shape[0]\n",
        "    labels = np.zeros(n)\n",
        "    \n",
        "    # Perform hierarchical clustering\n",
        "    while n > k:\n",
        "        # Calculate the pairwise distances between the centroids\n",
        "        distances = np.zeros((n, n))\n",
        "        for i in range(n):\n",
        "            for j in range(i+1, n):\n",
        "                distances[i,j] = euclidean_distance(centroids[i], centroids[j])\n",
        "        \n",
        "        # Find the indices of the closest pair of centroids\n",
        "        idx = np.unravel_index(np.argmin(distances), distances.shape)\n",
        "        i, j = idx\n",
        "        \n",
        "        # Merge the two clusters corresponding to the closest pair of centroids\n",
        "        new_centroid = (centroids[i] + centroids[j])/2.0\n",
        "        centroids = np.delete(centroids, j, axis=0)\n",
        "        centroids[i] = new_centroid\n",
        "        \n",
        "        # Update the labels of the points\n",
        "        for x_idx, x in enumerate(X):\n",
        "            distances_to_centroids = [euclidean_distance(x, centroid) for centroid in centroids]\n",
        "            labels[x_idx] = np.argmin(distances_to_centroids)\n",
        "        \n",
        "        # Decrement the number of clusters\n",
        "        n -= 1\n",
        "        \n",
        "    return labels\n"
      ],
      "metadata": {
        "id": "6GxL-FyQlQcq"
      },
      "execution_count": 6,
      "outputs": []
    },
    {
      "cell_type": "markdown",
      "source": [
        "## Generate Data"
      ],
      "metadata": {
        "id": "wXSft_B7pBmg"
      }
    },
    {
      "cell_type": "code",
      "source": [
        "# Generate some sample data\n",
        "np.random.seed(0)\n",
        "X = np.random.rand(20, 2)"
      ],
      "metadata": {
        "id": "dt5qk4ldpA3i"
      },
      "execution_count": 7,
      "outputs": []
    },
    {
      "cell_type": "markdown",
      "source": [
        "## Apply Hierarchical Clustering"
      ],
      "metadata": {
        "id": "MiFnOc3vpHEx"
      }
    },
    {
      "cell_type": "code",
      "source": [
        "k = 3\n",
        "labels_h = hierarchical_kmeans(X, k)\n",
        "labels_h"
      ],
      "metadata": {
        "colab": {
          "base_uri": "https://localhost:8080/"
        },
        "id": "C6YYif_emGmL",
        "outputId": "2f213329-d242-49e6-bdf2-1ae1d9352ce3"
      },
      "execution_count": 13,
      "outputs": [
        {
          "output_type": "execute_result",
          "data": {
            "text/plain": [
              "array([0., 1., 0., 0., 2., 1., 0., 1., 0., 2., 2., 0., 0., 0., 1., 0., 1.,\n",
              "       0., 1., 2.])"
            ]
          },
          "metadata": {},
          "execution_count": 13
        }
      ]
    },
    {
      "cell_type": "markdown",
      "source": [
        "# Plot the Dendrogram"
      ],
      "metadata": {
        "id": "fR7dE-Oypi4H"
      }
    },
    {
      "cell_type": "code",
      "source": [
        "from scipy.spatial.distance import squareform, pdist\n",
        "from scipy.cluster.hierarchy import dendrogram, linkage\n"
      ],
      "metadata": {
        "id": "ucKdpgXcppN-"
      },
      "execution_count": 9,
      "outputs": []
    },
    {
      "cell_type": "code",
      "source": [
        "dist_matrix = squareform(pdist(X))\n",
        "linkage_matrix = linkage(dist_matrix, method='ward')"
      ],
      "metadata": {
        "id": "4DcrofzOp7yv"
      },
      "execution_count": 10,
      "outputs": []
    },
    {
      "cell_type": "code",
      "source": [
        "dendrogram(linkage_matrix)\n",
        "plt.show()"
      ],
      "metadata": {
        "colab": {
          "base_uri": "https://localhost:8080/",
          "height": 434
        },
        "id": "XiEGSOARrAos",
        "outputId": "1ecad512-00fb-441e-c101-4072733c0e48"
      },
      "execution_count": 11,
      "outputs": [
        {
          "output_type": "display_data",
          "data": {
            "text/plain": [
              "<Figure size 640x480 with 1 Axes>"
            ],
            "image/png": "[encoded data removed]"
          },
          "metadata": {}
        }
      ]
    },
    {
      "cell_type": "code",
      "source": [
        "# Plot the data points with different colors for each cluster\n",
        "plt.scatter(X[:, 0], X[:, 1], c=labels_h)\n",
        "plt.show()"
      ],
      "metadata": {
        "colab": {
          "base_uri": "https://localhost:8080/",
          "height": 430
        },
        "id": "wPC5P7QqrIB9",
        "outputId": "b6ece244-427c-4524-a831-14742a2c9e0c"
      },
      "execution_count": 12,
      "outputs": [
        {
          "output_type": "display_data",
          "data": {
            "text/plain": [
              "<Figure size 640x480 with 1 Axes>"
            ],
            "image/png": "[encoded data removed]"
          },
          "metadata": {}
        }
      ]
    }
  ]
}