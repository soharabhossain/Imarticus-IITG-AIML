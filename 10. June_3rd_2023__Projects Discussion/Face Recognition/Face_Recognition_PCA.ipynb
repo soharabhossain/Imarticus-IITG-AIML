{
  "nbformat": 4,
  "nbformat_minor": 0,
  "metadata": {
    "colab": {
      "provenance": []
    },
    "kernelspec": {
      "name": "python3",
      "display_name": "Python 3"
    },
    "language_info": {
      "name": "python"
    }
  },
  "cells": [
    {
      "cell_type": "markdown",
      "source": [
        "# Face Recognition with PCA"
      ],
      "metadata": {
        "id": "EWHhfZX_PoCi"
      }
    },
    {
      "cell_type": "markdown",
      "source": [
        "## Import the libraries"
      ],
      "metadata": {
        "id": "rDHnzF4BP6sG"
      }
    },
    {
      "cell_type": "code",
      "execution_count": 1,
      "metadata": {
        "id": "BCideisUPmJs"
      },
      "outputs": [],
      "source": [
        "import zipfile\n",
        "import cv2\n",
        "import numpy as np\n",
        "import matplotlib.pyplot as plt\n",
        "\n",
        "from sklearn.decomposition import PCA"
      ]
    },
    {
      "cell_type": "code",
      "source": [
        "ls"
      ],
      "metadata": {
        "colab": {
          "base_uri": "https://localhost:8080/"
        },
        "id": "Xt4wRESgUCTW",
        "outputId": "a4415deb-3ec8-4dac-84db-d182970c210d"
      },
      "execution_count": 5,
      "outputs": [
        {
          "output_type": "stream",
          "name": "stdout",
          "text": [
            "faces.zip  \u001b[0m\u001b[01;34msample_data\u001b[0m/\n"
          ]
        }
      ]
    },
    {
      "cell_type": "code",
      "source": [
        "ls"
      ],
      "metadata": {
        "colab": {
          "base_uri": "https://localhost:8080/"
        },
        "id": "6BNJC_MmUnjJ",
        "outputId": "633a7e5e-cd62-4780-93b7-607dbb5e9666"
      },
      "execution_count": 12,
      "outputs": [
        {
          "output_type": "stream",
          "name": "stdout",
          "text": [
            "faces.zip  \u001b[0m\u001b[01;34msample_data\u001b[0m/\n"
          ]
        }
      ]
    },
    {
      "cell_type": "code",
      "source": [
        "pwd"
      ],
      "metadata": {
        "colab": {
          "base_uri": "https://localhost:8080/",
          "height": 35
        },
        "id": "wqNubYR3UWOE",
        "outputId": "c141b0aa-b555-4833-8961-3e2ba8bcd56f"
      },
      "execution_count": 8,
      "outputs": [
        {
          "output_type": "execute_result",
          "data": {
            "text/plain": [
              "'/content'"
            ],
            "application/vnd.google.colaboratory.intrinsic+json": {
              "type": "string"
            }
          },
          "metadata": {},
          "execution_count": 8
        }
      ]
    },
    {
      "cell_type": "markdown",
      "source": [
        "# Read the facial images from the zip file"
      ],
      "metadata": {
        "id": "6FPp2rn0Qi6Z"
      }
    },
    {
      "cell_type": "code",
      "source": [
        "faces = {}\n",
        "with zipfile.ZipFile(\"faces.zip\") as facezip:\n",
        "    for filename in facezip.namelist():\n",
        "        if not filename.endswith(\".pgm\"):\n",
        "            continue # not a face picture\n",
        "        with facezip.open(filename) as image:\n",
        "            # If we extracted files from zip, we can use cv2.imread(filename) instead\n",
        "            faces[filename] = cv2.imdecode(np.frombuffer(image.read(), np.uint8), cv2.IMREAD_GRAYSCALE)"
      ],
      "metadata": {
        "id": "DHPH9jZyQZQL"
      },
      "execution_count": null,
      "outputs": []
    },
    {
      "cell_type": "code",
      "source": [],
      "metadata": {
        "id": "n078IxwLQrD1"
      },
      "execution_count": null,
      "outputs": []
    },
    {
      "cell_type": "markdown",
      "source": [
        "## Display some of the images"
      ],
      "metadata": {
        "id": "1Gga0t49WRrk"
      }
    },
    {
      "cell_type": "code",
      "source": [
        "# Show sample faces using matplotlib\n",
        "fig, axes = plt.subplots(4,4,sharex=True,sharey=True,figsize=(8,10))\n",
        "faceimages = list(faces.values())[-16:] # take last 16 images\n",
        "for i in range(16):\n",
        "    axes[i%4][i//4].imshow(faceimages[i], cmap=\"gray\")\n",
        "print(\"Showing sample faces\")\n",
        "plt.show()\n"
      ],
      "metadata": {
        "id": "lqcEUR1rWUyp"
      },
      "execution_count": null,
      "outputs": []
    },
    {
      "cell_type": "code",
      "source": [
        "\n",
        "faceshape = list(faces.values())[0].shape\n",
        "print('Dimension of the facial image:', faceshape)\n",
        "\n",
        "classes = set(filename.split(\"/\")[0] for filename in faces.keys())\n",
        "\n",
        "print('Number of classes : ', len(classes))\n",
        "print(\" Number of images : \", len(faces))\n"
      ],
      "metadata": {
        "id": "T0VHOWx9W24Q"
      },
      "execution_count": null,
      "outputs": []
    },
    {
      "cell_type": "markdown",
      "source": [
        "#### Take all images as trainning data except the last image of folder 39 and all images of folder 40 (test images)."
      ],
      "metadata": {
        "id": "K9qpVXysX15k"
      }
    },
    {
      "cell_type": "code",
      "source": [
        "\n",
        "facematrix = []\n",
        "facelabel = []\n",
        "\n",
        "for key, val in faces.items():\n",
        "  if key.startswith(\"s40/\"):\n",
        "    continue\n",
        "  if key == \"s39/10.pgm\":\n",
        "    continue\n",
        "  facematrix.append(val.flatten())\n",
        "  facelabel.append(key.split(\"/\")[0])\n",
        "  "
      ],
      "metadata": {
        "id": "sWDEDyL_YDH9"
      },
      "execution_count": 16,
      "outputs": []
    },
    {
      "cell_type": "code",
      "source": [
        "# Create a NXM matrix, N is the number of images\n",
        "# M the total pixels per image\n",
        "\n",
        "facematrix = np.array(facematrix)"
      ],
      "metadata": {
        "id": "xWGeYpRqZB0t"
      },
      "execution_count": 17,
      "outputs": []
    },
    {
      "cell_type": "markdown",
      "source": [
        "## Apply PCA"
      ],
      "metadata": {
        "id": "sQCCiNniZcOf"
      }
    },
    {
      "cell_type": "code",
      "source": [
        "pca = PCA().fit(facematrix)"
      ],
      "metadata": {
        "id": "zpPwAzt9ZY6f"
      },
      "execution_count": null,
      "outputs": []
    },
    {
      "cell_type": "code",
      "source": [
        "n_components = 50\n",
        "eigenfaces = pca.components_[:n_components]"
      ],
      "metadata": {
        "id": "hn9drnRQZyBX"
      },
      "execution_count": null,
      "outputs": []
    },
    {
      "cell_type": "markdown",
      "source": [
        "## Plot the explained variance to check how many components to retain"
      ],
      "metadata": {
        "id": "Ou14cRJhaOOT"
      }
    },
    {
      "cell_type": "code",
      "source": [
        "#print(pca.explained_variance_ratio_)\n",
        "# Determine explained variance using explained_variance_ration_ attribute\n",
        "exp_var_pca = pca.explained_variance_ratio_\n",
        "\n",
        "# Cumulative sum of eigenvalues; This will be used to create step plot\n",
        "# for visualizing the variance explained by each principal component.\n",
        "cum_sum_eigenvalues = np.cumsum(exp_var_pca)\n",
        "# Create the visualization plot\n",
        "plt.bar(range(0,len(exp_var_pca)), exp_var_pca, alpha=0.5, align='center', label='Individual explained variance')\n",
        "plt.step(range(0,len(cum_sum_eigenvalues)), cum_sum_eigenvalues, where='mid',label='Cumulative explained variance')\n",
        "plt.ylabel('Explained variance ratio')\n",
        "plt.xlabel('Principal component index')\n",
        "plt.legend(loc='best')\n",
        "plt.tight_layout()\n",
        "plt.show()"
      ],
      "metadata": {
        "id": "AQuu58ZTaJ-P"
      },
      "execution_count": null,
      "outputs": []
    },
    {
      "cell_type": "code",
      "source": [
        "# Show the first 16 eigenfaces\n",
        "fig, axes = plt.subplots(4,4,sharex=True,sharey=True,figsize=(8,10))\n",
        "for i in range(16):\n",
        "    axes[i%4][i//4].imshow(eigenfaces[i].reshape(faceshape), cmap=\"gray\")\n",
        "print(\"Showing the eigenfaces\")\n",
        "plt.show()"
      ],
      "metadata": {
        "id": "A1s4AvNncxOw"
      },
      "execution_count": null,
      "outputs": []
    },
    {
      "cell_type": "markdown",
      "source": [
        "## Projecting data to lower dimension"
      ],
      "metadata": {
        "id": "06fLeKkXdX1X"
      }
    },
    {
      "cell_type": "code",
      "source": [
        "# Generate weights as KXN matrix \n",
        "weights = eigenfaces @ (facematrix - pca.mean_).T\n",
        "weights.shape"
      ],
      "metadata": {
        "id": "H2O4qUGQdZJO"
      },
      "execution_count": null,
      "outputs": []
    },
    {
      "cell_type": "markdown",
      "source": [
        "## Face Match"
      ],
      "metadata": {
        "id": "KVsXvzHneHQ7"
      }
    },
    {
      "cell_type": "markdown",
      "source": [
        "## Correct Match"
      ],
      "metadata": {
        "id": "e3U_6Vqbfses"
      }
    },
    {
      "cell_type": "code",
      "source": [
        "query = faces[\"s39/10.pgm\"].reshape(1, -1)\n",
        "query_weights = eigenfaces @ (query - pca.mean_).T\n",
        "\n",
        "euclidean_distance = np.linalg.norm(weights - query_weight,axis=0)\n",
        "\n",
        "best_match = np.argmin(euclidean_distance)\n",
        "print(\"Best match %s with Euclidean distance %f\" % (facelabel[best_match], euclidean_distance[best_match]))"
      ],
      "metadata": {
        "id": "u-QszZkueVk0"
      },
      "execution_count": null,
      "outputs": []
    },
    {
      "cell_type": "code",
      "source": [
        "# Visualize\n",
        "fig, axes = plt.subplots(1,2,sharex=True,sharey=True,figsize=(8,6))\n",
        "axes[0].imshow(query.reshape(faceshape), cmap=\"gray\")\n",
        "axes[0].set_title(\"Query\")\n",
        "axes[1].imshow(facematrix[best_match].reshape(faceshape), cmap=\"gray\")\n",
        "axes[1].set_title(\"Best match\")\n",
        "plt.show()"
      ],
      "metadata": {
        "id": "d9D5JYBefG5Q"
      },
      "execution_count": null,
      "outputs": []
    },
    {
      "cell_type": "markdown",
      "source": [
        "## Mismatch"
      ],
      "metadata": {
        "id": "qrqK04yzfqpu"
      }
    },
    {
      "cell_type": "code",
      "source": [
        "query = faces[\"s40/1.pgm\"].reshape(1, -1)\n",
        "query_weights = eigenfaces @ (query - pca.mean_).T\n",
        "\n",
        "euclidean_distance = np.linalg.norm(weights - query_weight,axis=0)\n",
        "\n",
        "best_match = np.argmin(euclidean_distance)\n",
        "print(\"Best match %s with Euclidean distance %f\" % (facelabel[best_match], euclidean_distance[best_match]))"
      ],
      "metadata": {
        "id": "wkbp3py8fQWN"
      },
      "execution_count": null,
      "outputs": []
    },
    {
      "cell_type": "code",
      "source": [
        "# Visualize\n",
        "fig, axes = plt.subplots(1,2,sharex=True,sharey=True,figsize=(8,6))\n",
        "axes[0].imshow(query.reshape(faceshape), cmap=\"gray\")\n",
        "axes[0].set_title(\"Query\")\n",
        "axes[1].imshow(facematrix[best_match].reshape(faceshape), cmap=\"gray\")\n",
        "axes[1].set_title(\"Best match\")\n",
        "plt.show()"
      ],
      "metadata": {
        "id": "i5TOHULMffdi"
      },
      "execution_count": null,
      "outputs": []
    }
  ]
}